{
 "cells": [
  {
   "cell_type": "code",
   "execution_count": 1,
   "metadata": {},
   "outputs": [
    {
     "name": "stderr",
     "output_type": "stream",
     "text": [
      "2024-08-10 21:53:05.744987: I tensorflow/core/util/port.cc:110] oneDNN custom operations are on. You may see slightly different numerical results due to floating-point round-off errors from different computation orders. To turn them off, set the environment variable `TF_ENABLE_ONEDNN_OPTS=0`.\n",
      "2024-08-10 21:53:05.746220: I tensorflow/tsl/cuda/cudart_stub.cc:28] Could not find cuda drivers on your machine, GPU will not be used.\n",
      "2024-08-10 21:53:05.770956: I tensorflow/tsl/cuda/cudart_stub.cc:28] Could not find cuda drivers on your machine, GPU will not be used.\n",
      "2024-08-10 21:53:05.771448: I tensorflow/core/platform/cpu_feature_guard.cc:182] This TensorFlow binary is optimized to use available CPU instructions in performance-critical operations.\n",
      "To enable the following instructions: AVX2 AVX_VNNI FMA, in other operations, rebuild TensorFlow with the appropriate compiler flags.\n",
      "2024-08-10 21:53:06.214651: W tensorflow/compiler/tf2tensorrt/utils/py_utils.cc:38] TF-TRT Warning: Could not find TensorRT\n"
     ]
    },
    {
     "name": "stdout",
     "output_type": "stream",
     "text": [
      "2024/08/10 21:53:06 Process started\n"
     ]
    },
    {
     "name": "stderr",
     "output_type": "stream",
     "text": [
      "2024-08-10 21:53:06.605717: E tensorflow/compiler/xla/stream_executor/cuda/cuda_driver.cc:266] failed call to cuInit: CUDA_ERROR_NO_DEVICE: no CUDA-capable device is detected\n",
      "2024-08-10 21:53:06.605735: I tensorflow/compiler/xla/stream_executor/cuda/cuda_diagnostics.cc:168] retrieving CUDA diagnostic information for host: pn01\n",
      "2024-08-10 21:53:06.605737: I tensorflow/compiler/xla/stream_executor/cuda/cuda_diagnostics.cc:175] hostname: pn01\n",
      "2024-08-10 21:53:06.605779: I tensorflow/compiler/xla/stream_executor/cuda/cuda_diagnostics.cc:199] libcuda reported version is: 535.183.1\n",
      "2024-08-10 21:53:06.605789: I tensorflow/compiler/xla/stream_executor/cuda/cuda_diagnostics.cc:203] kernel reported version is: 535.183.1\n",
      "2024-08-10 21:53:06.605791: I tensorflow/compiler/xla/stream_executor/cuda/cuda_diagnostics.cc:309] kernel version seems to match DSO: 535.183.1\n"
     ]
    }
   ],
   "source": [
    "import os\n",
    "import pickle\n",
    "from datetime import datetime\n",
    "\n",
    "import tensorflow as tf\n",
    "\n",
    "print(datetime.now().strftime(\"%Y/%m/%d %H:%M:%S\"), \"Process started\", flush=True)\n",
    "\n",
    "# Initial Setup for GPU\n",
    "os.environ[\"CUDA_VISIBLE_DEVICES\"] = \"2\"\n",
    "\n",
    "gpus = tf.config.experimental.list_physical_devices(\"GPU\")\n",
    "for gpu in gpus:\n",
    "    tf.config.experimental.set_memory_growth(gpu, True)\n"
   ]
  },
  {
   "cell_type": "code",
   "execution_count": 2,
   "metadata": {},
   "outputs": [],
   "source": [
    "Smiles_Path = \"train_data/decimal_results.csv\"\n",
    "\n",
    "with open(Smiles_Path, \"r\") as txt_file:\n",
    "    smiles = txt_file.read()"
   ]
  },
  {
   "cell_type": "code",
   "execution_count": 3,
   "metadata": {},
   "outputs": [
    {
     "name": "stdout",
     "output_type": "stream",
     "text": [
      "ChemistryArt_bnw_0,C1=CC2=C(C=C1)C(=O)N([C@@H]3CCC(=O)NC3=O)C2=O\n",
      "ChemistryArt_bnw_1,C1=CC2=C(C=C1)C(=O)N([C@H]3CCC(=O)NC3=O)C2=O\n",
      "ChemistryArt_orig_0,C1=CC2=C(C=C1)C(=O)N([C@@H]3CCC(=O)NC3=O)C2=O\n",
      "ChemistryArt_orig_1,C1=CC2=C(C=C1)C(=O)N([C@H]3CCC(=O)NC3=O)C2=O\n",
      "\n"
     ]
    }
   ],
   "source": [
    "for line in smiles.split(\"\\n\"):\n",
    "    print(line)"
   ]
  },
  {
   "cell_type": "code",
   "execution_count": 5,
   "metadata": {},
   "outputs": [],
   "source": [
    "\n",
    "# storing the captions and the image name in vectors\n",
    "all_smiles = []\n",
    "all_img_name = []\n",
    "for line in smiles.split(\"\\n\"):\n",
    "    # Split the ID and SMILES to separate tokens\n",
    "    tokens = line.split(\",\")\n",
    "    # Check if tokens have at least 2 elements (ID and SMILES)\n",
    "    if len(tokens) < 2:\n",
    "        continue  # Skip lines that don't have both an ID and a SMILES string\n",
    "    \n",
    "    image_id = str(tokens[0]) + \".png\"\n",
    "    # Add start and end annotations to SMILES string\n",
    "    try:\n",
    "        SMILES_ = (\n",
    "            \"<start> \" + str(tokens[1].replace(\"][\", \"] [\").rstrip()) + \" <end>\"\n",
    "        )\n",
    "    except IndexError as e:\n",
    "        print(e, flush=True)\n",
    "\n",
    "    # PATH of training images\n",
    "    full_image_path = \"train_data/\" + image_id\n",
    "\n",
    "    all_img_name.append(full_image_path)\n",
    "    all_smiles.append(SMILES_)\n",
    "\n",
    "train_captions, img_name_vector = (all_smiles, all_img_name)"
   ]
  },
  {
   "cell_type": "code",
   "execution_count": 9,
   "metadata": {},
   "outputs": [
    {
     "data": {
      "text/plain": [
       "['<start> C1=CC2=C(C=C1)C(=O)N([C@@H]3CCC(=O)NC3=O)C2=O <end>',\n",
       " '<start> C1=CC2=C(C=C1)C(=O)N([C@H]3CCC(=O)NC3=O)C2=O <end>',\n",
       " '<start> C1=CC2=C(C=C1)C(=O)N([C@@H]3CCC(=O)NC3=O)C2=O <end>',\n",
       " '<start> C1=CC2=C(C=C1)C(=O)N([C@H]3CCC(=O)NC3=O)C2=O <end>']"
      ]
     },
     "execution_count": 9,
     "metadata": {},
     "output_type": "execute_result"
    }
   ],
   "source": [
    "train_captions"
   ]
  },
  {
   "cell_type": "code",
   "execution_count": 10,
   "metadata": {},
   "outputs": [
    {
     "data": {
      "text/plain": [
       "['train_data/ChemistryArt_bnw_0.png',\n",
       " 'train_data/ChemistryArt_bnw_1.png',\n",
       " 'train_data/ChemistryArt_orig_0.png',\n",
       " 'train_data/ChemistryArt_orig_1.png']"
      ]
     },
     "execution_count": 10,
     "metadata": {},
     "output_type": "execute_result"
    }
   ],
   "source": [
    "img_name_vector"
   ]
  },
  {
   "cell_type": "code",
   "execution_count": 12,
   "metadata": {},
   "outputs": [
    {
     "name": "stdout",
     "output_type": "stream",
     "text": [
      "Total number of selected SMILES Strings:  4\n",
      "3 1 3 1\n"
     ]
    }
   ],
   "source": [
    "\n",
    "print(\"Total number of selected SMILES Strings: \", len(train_captions), flush=True)\n",
    "\n",
    "# Defining the maximum number of tokens to generate\n",
    "def calc_max_length(tensor):\n",
    "    return max(len(t) for t in tensor)\n",
    "\n",
    "# choosing the top 500 words from the vocabulary\n",
    "top_k = 500\n",
    "tokenizer = tf.keras.preprocessing.text.Tokenizer(\n",
    "    num_words=top_k, oov_token=\"<unk>\", lower=False, filters=\"\"\n",
    ")\n",
    "\n",
    "tokenizer.fit_on_texts(train_captions)\n",
    "train_seqs = tokenizer.texts_to_sequences(train_captions)\n",
    "\n",
    "tokenizer.word_index[\"<pad>\"] = 0\n",
    "tokenizer.index_word[0] = \"<pad>\"\n",
    "\n",
    "# padding each vector to the max_length of the captions, if the max_length parameter is not provided, pad_sequences calculates that automatically\n",
    "cap_vector = tf.keras.preprocessing.sequence.pad_sequences(\n",
    "    train_seqs, padding=\"post\"\n",
    ")\n",
    "\n",
    "# calculating the max_length used to store the attention weights\n",
    "max_length = calc_max_length(train_seqs)\n",
    "\n",
    "# img_name_train, img_name_val, cap_train, cap_val = (\n",
    "#     img_name_vector[0:1340000],\n",
    "#     img_name_vector[1340000:1440000],\n",
    "#     cap_vector[0:1340000],\n",
    "#     cap_vector[1340000:1440000],\n",
    "# )\n",
    "\n",
    "total_images = len(train_captions)\n",
    "split_index = int(0.9 * total_images)  # 90 images for training, 10 for validation\n",
    "img_name_train = img_name_vector[:split_index]  # 90 images\n",
    "img_name_val = img_name_vector[split_index:]    # 10 images\n",
    "cap_train = cap_vector[:split_index]  # Corresponding 90 captions\n",
    "cap_val = cap_vector[split_index:]    # Corresponding 10 captions\n",
    "\n",
    "\n",
    "\n",
    "print(\n",
    "    str(len(img_name_train)),\n",
    "    str(len(img_name_val)),\n",
    "    str(len(cap_train)),\n",
    "    str(len(cap_val)),\n",
    ")\n",
    "\n",
    "    # return img_name_train, cap_train, tokenizer, max_length, img_name_val"
   ]
  },
  {
   "cell_type": "code",
   "execution_count": 29,
   "metadata": {},
   "outputs": [
    {
     "name": "stdout",
     "output_type": "stream",
     "text": [
      "Total Train_Images:  2\n",
      "Total SELFIES_Images:  2\n",
      "Total Train_Images:  2\n",
      "Total SELFIES_Images:  2\n"
     ]
    }
   ],
   "source": [
    "start = 0\n",
    "end = 2\n",
    "start_x = 0\n",
    "\n",
    "for i in range(int(len(img_name_vector) / end)):\n",
    "\n",
    "    imgs_path = img_name_vector[start : (start + end)]\n",
    "    caps_path = cap_vector[start : (start + end)]\n",
    "\n",
    "\n",
    "    \n",
    "    with open(\n",
    "        \"pkl/Images_\" + str(start_x) + \"_\" + str(start_x) + \".pkl\", \"wb\"\n",
    "    ) as file:\n",
    "        pickle.dump(imgs_path, file)\n",
    "\n",
    "    with open(\n",
    "        \"pkl/Capts_\" + str(start_x) + \"_\" + str(start_x) + \".pkl\", \"wb\"\n",
    "    ) as file:\n",
    "        pickle.dump(caps_path, file)\n",
    "\n",
    "    print(\"Total Train_Images: \", len(imgs_path), flush=True)\n",
    "    print(\"Total SELFIES_Images: \", len(caps_path), flush=True)\n",
    "\n",
    "    start = start + len(imgs_path)\n",
    "    start_x = start_x + 1"
   ]
  },
  {
   "cell_type": "code",
   "execution_count": 30,
   "metadata": {},
   "outputs": [
    {
     "name": "stdout",
     "output_type": "stream",
     "text": [
      "Capts_0_0.pkl  Capts_1_1.pkl  Images_0_0.pkl  Images_1_1.pkl\n"
     ]
    }
   ],
   "source": [
    "ls pkl"
   ]
  },
  {
   "cell_type": "code",
   "execution_count": 19,
   "metadata": {},
   "outputs": [
    {
     "data": {
      "text/plain": [
       "array([[2, 4, 3],\n",
       "       [2, 5, 3]], dtype=int32)"
      ]
     },
     "execution_count": 19,
     "metadata": {},
     "output_type": "execute_result"
    }
   ],
   "source": [
    "caps_path"
   ]
  },
  {
   "cell_type": "code",
   "execution_count": 1,
   "metadata": {},
   "outputs": [],
   "source": [
    "import pickle"
   ]
  },
  {
   "cell_type": "code",
   "execution_count": 3,
   "metadata": {},
   "outputs": [
    {
     "data": {
      "text/plain": [
       "3"
      ]
     },
     "execution_count": 3,
     "metadata": {},
     "output_type": "execute_result"
    }
   ],
   "source": [
    "max_length = pickle.load(open(\"pkl/max_length_TPU_Stereo.pkl\", \"rb\"))\n",
    "max_length"
   ]
  },
  {
   "cell_type": "code",
   "execution_count": null,
   "metadata": {},
   "outputs": [],
   "source": []
  }
 ],
 "metadata": {
  "kernelspec": {
   "display_name": "DECIMER_IMGSEG",
   "language": "python",
   "name": "python3"
  },
  "language_info": {
   "codemirror_mode": {
    "name": "ipython",
    "version": 3
   },
   "file_extension": ".py",
   "mimetype": "text/x-python",
   "name": "python",
   "nbconvert_exporter": "python",
   "pygments_lexer": "ipython3",
   "version": "3.10.13"
  }
 },
 "nbformat": 4,
 "nbformat_minor": 2
}
